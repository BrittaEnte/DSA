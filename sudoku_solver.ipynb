{
 "cells": [
  {
   "cell_type": "code",
   "execution_count": 49,
   "id": "583ea687-945e-4d77-9084-1acfdd0d0423",
   "metadata": {},
   "outputs": [],
   "source": [
    "grid = [\n",
    "    [ 5,3,0,0,7,0,0,0,0],\n",
    "    [ 6,0,0,1,9,5,0,0,0],\n",
    "    [ 0,9,8,0,0,0,0,6,0],\n",
    "    [ 8,0,0,0,6,0,0,0,3],\n",
    "    [ 4,0,0,8,0,3,0,0,1],\n",
    "    [ 7,0,0,0,2,0,0,0,6],\n",
    "    [ 0,6,0,0,0,0,2,8,0],\n",
    "    [ 0,0,0,4,1,9,0,0,5],\n",
    "    [ 0,0,0,0,8,0,0,7,9],\n",
    "]"
   ]
  },
  {
   "cell_type": "code",
   "execution_count": 50,
   "id": "5996cf2f-31a8-4876-87ec-34b8dc713d2f",
   "metadata": {},
   "outputs": [
    {
     "name": "stdout",
     "output_type": "stream",
     "text": [
      "[[5, 3, 0, 0, 7, 0, 0, 0, 0], [6, 0, 0, 1, 9, 5, 0, 0, 0], [0, 9, 8, 0, 0, 0, 0, 6, 0], [8, 0, 0, 0, 6, 0, 0, 0, 3], [4, 0, 0, 8, 0, 3, 0, 0, 1], [7, 0, 0, 0, 2, 0, 0, 0, 6], [0, 6, 0, 0, 0, 0, 2, 8, 0], [0, 0, 0, 4, 1, 9, 0, 0, 5], [0, 0, 0, 0, 8, 0, 0, 7, 9]]\n"
     ]
    }
   ],
   "source": [
    "print(grid)"
   ]
  },
  {
   "cell_type": "code",
   "execution_count": 51,
   "id": "9a41b629-89e4-4eae-9d30-be08962cc266",
   "metadata": {},
   "outputs": [
    {
     "name": "stdout",
     "output_type": "stream",
     "text": [
      "[[5 3 0 0 7 0 0 0 0]\n",
      " [6 0 0 1 9 5 0 0 0]\n",
      " [0 9 8 0 0 0 0 6 0]\n",
      " [8 0 0 0 6 0 0 0 3]\n",
      " [4 0 0 8 0 3 0 0 1]\n",
      " [7 0 0 0 2 0 0 0 6]\n",
      " [0 6 0 0 0 0 2 8 0]\n",
      " [0 0 0 4 1 9 0 0 5]\n",
      " [0 0 0 0 8 0 0 7 9]]\n"
     ]
    }
   ],
   "source": [
    "import numpy as np\n",
    "print(np.matrix(grid))"
   ]
  },
  {
   "cell_type": "code",
   "execution_count": 52,
   "id": "f745ff52-78e9-419e-9d9e-d825a7008cca",
   "metadata": {},
   "outputs": [],
   "source": [
    "def possible(y,x,n):\n",
    "    global grid\n",
    "    \n",
    "    for i in range(0,9):\n",
    "        #test if the figure already exists in axis y, if yes, return false\n",
    "        if grid[y][i] == n:\n",
    "            return False\n",
    "        #test if the figure already exists in axis y, if yes, return false\n",
    "    for i in range(0,9):\n",
    "        if grid[i][x] == n:        \n",
    "            return False\n",
    "    x0 = (x//3) *3 # make the 3 grids on the x axis\n",
    "    #print(x0)   \n",
    "    y0 = (y//3) *3 # make the 3 grids on the y axis \n",
    "    #print(y0)\n",
    "    for i in range(0,3): # for the y axis position 0,1,2\n",
    "        for j in range(0,3): # for the x axis position 0,1,2\n",
    "            if grid[y0 + i][x0 + j] == n:\n",
    "                 return False\n",
    "    \n",
    "    return True"
   ]
  },
  {
   "cell_type": "code",
   "execution_count": 53,
   "id": "6d022330-03f6-41c2-b3e8-52dbba134e01",
   "metadata": {},
   "outputs": [
    {
     "data": {
      "text/plain": [
       "True"
      ]
     },
     "execution_count": 53,
     "metadata": {},
     "output_type": "execute_result"
    }
   ],
   "source": [
    "possible(4,4,5)\n",
    "#possible(7,7,7)\n"
   ]
  },
  {
   "cell_type": "code",
   "execution_count": 54,
   "id": "2f5a7462-b1b5-49a8-9850-349837a887c9",
   "metadata": {},
   "outputs": [
    {
     "data": {
      "text/plain": [
       "6"
      ]
     },
     "execution_count": 54,
     "metadata": {},
     "output_type": "execute_result"
    }
   ],
   "source": [
    "7//3*3"
   ]
  },
  {
   "cell_type": "code",
   "execution_count": 55,
   "id": "3162f300-b911-4e8e-a028-6960f6606fcc",
   "metadata": {},
   "outputs": [],
   "source": [
    "def solve():\n",
    "    global grid\n",
    "    for y in range(9):\n",
    "        for x in range(9):\n",
    "            if grid[y][x] == 0:\n",
    "                for n in range(1,10):\n",
    "                    if possible(y,x,n):\n",
    "                        grid[y][x] = n\n",
    "                        solve()\n",
    "                        grid[y][x] = 0\n",
    "                return                  \n",
    "    print(np.matrix(grid))    "
   ]
  },
  {
   "cell_type": "code",
   "execution_count": 56,
   "id": "ab8401e4-9254-466b-8b6b-2abc19224a88",
   "metadata": {},
   "outputs": [
    {
     "name": "stdout",
     "output_type": "stream",
     "text": [
      "[[5 3 4 6 7 8 9 1 2]\n",
      " [6 7 2 1 9 5 3 4 8]\n",
      " [1 9 8 3 4 2 5 6 7]\n",
      " [8 5 9 7 6 1 4 2 3]\n",
      " [4 2 6 8 5 3 7 9 1]\n",
      " [7 1 3 9 2 4 8 5 6]\n",
      " [9 6 1 5 3 7 2 8 4]\n",
      " [2 8 7 4 1 9 6 3 5]\n",
      " [3 4 5 2 8 6 1 7 9]]\n"
     ]
    }
   ],
   "source": [
    "solve()"
   ]
  },
  {
   "cell_type": "code",
   "execution_count": null,
   "id": "479a9fd8-65bc-468c-a1f8-cac8d5ebb0f1",
   "metadata": {},
   "outputs": [],
   "source": []
  }
 ],
 "metadata": {
  "kernelspec": {
   "display_name": "Python 3 (ipykernel)",
   "language": "python",
   "name": "python3"
  },
  "language_info": {
   "codemirror_mode": {
    "name": "ipython",
    "version": 3
   },
   "file_extension": ".py",
   "mimetype": "text/x-python",
   "name": "python",
   "nbconvert_exporter": "python",
   "pygments_lexer": "ipython3",
   "version": "3.8.11"
  }
 },
 "nbformat": 4,
 "nbformat_minor": 5
}
