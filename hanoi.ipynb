{
 "cells": [
  {
   "cell_type": "markdown",
   "id": "e24ca5ae-1ec3-4153-823d-2ff246e4dd85",
   "metadata": {},
   "source": [
    "# The tower of hanoi"
   ]
  },
  {
   "cell_type": "markdown",
   "id": "75c5ba94-aaf8-4712-8477-9cbbdbe6c705",
   "metadata": {},
   "source": [
    "## 1.1 What is the tower of hanoi? \n",
    "You got for example three rods as A, B, C and 4 disks. These 4 disks are from large at the bottom and get smaller and smaller. This is the reason why we call it a tower. \n",
    "At the beginning all 4 discs are on rode A.\n",
    "How many steps to you need to have all 4 disks on rod C?\n",
    "\n",
    "<span style=\"color:green\"> the rules are:</span>\n",
    "\n",
    "<ol>\n",
    "  <li>only one disk can move at each step.</li>\n",
    "  <li>no large disk can be put on a smaller one.</li>\n",
    "    <li>only the uppermost disk can be moved.</li>\n",
    "</ol>\n",
    "\n",
    "\n"
   ]
  },
  {
   "cell_type": "markdown",
   "id": "21554483-1d4e-49bd-97b4-a53ff50dbb2c",
   "metadata": {},
   "source": [
    "## 1.2 What is the mathematical approach? \n",
    "We need a minimum of moves. \n",
    "(2^n)-1\n",
    "so for 3 disks, we got 8-1 = 7 moves"
   ]
  },
  {
   "cell_type": "markdown",
   "id": "30e88266-0d13-4a35-8f37-cb97727681e2",
   "metadata": {},
   "source": [
    "## 1.3 what is recursion and how to solve it\n",
    "Recursion : taking a problem and solving it using simpler verions of this problem \n",
    "\n",
    "what are the rules? \n",
    "\n",
    "<ol>\n",
    "  <li>what is the simplest input?</li>\n",
    "  <li>visualize it and play with the examples</li>\n",
    "  <li>relate the hard case to the simpler case</li>\n",
    "  <li>generalize the pattern </li>\n",
    "  <li>write code with the base case </li>\n",
    "</ol>\n",
    "\n"
   ]
  },
  {
   "cell_type": "markdown",
   "id": "7442a30d-71f9-4fed-b501-652557191dbc",
   "metadata": {},
   "source": [
    "## 1.4 the final code\n"
   ]
  },
  {
   "cell_type": "code",
   "execution_count": 4,
   "id": "e7acbd97-64c6-4a4d-9514-8fd8fc0dec9a",
   "metadata": {},
   "outputs": [
    {
     "name": "stdin",
     "output_type": "stream",
     "text": [
      "Enter the number of disks 2\n"
     ]
    },
    {
     "name": "stdout",
     "output_type": "stream",
     "text": [
      "Move disk 1 from rod A to rod C\n",
      "Move disk 2 from rod A to rod B\n",
      "Move disk 1 from rod C to rod B\n"
     ]
    }
   ],
   "source": [
    "def TowerOfHanoi(n , from_rod, to_rod, aux_rod):\n",
    "    if n == 1:\n",
    "        print(\"Move disk 1 from rod\",from_rod,\"to rod\",to_rod)\n",
    "        return\n",
    "    TowerOfHanoi(n-1, from_rod, aux_rod, to_rod)\n",
    "    print(\"Move disk\",n,\"from rod\",from_rod,\"to rod\",to_rod)\n",
    "    TowerOfHanoi(n-1, aux_rod, to_rod, from_rod)\n",
    "         \n",
    "\n",
    "n = int(input(\"Enter the number of disks\"))\n",
    "TowerOfHanoi(n, 'A', 'B', 'C')"
   ]
  },
  {
   "cell_type": "code",
   "execution_count": null,
   "id": "cd5e5190-0f8e-4edd-ad88-a89abef74795",
   "metadata": {},
   "outputs": [],
   "source": []
  }
 ],
 "metadata": {
  "kernelspec": {
   "display_name": "Python 3 (ipykernel)",
   "language": "python",
   "name": "python3"
  },
  "language_info": {
   "codemirror_mode": {
    "name": "ipython",
    "version": 3
   },
   "file_extension": ".py",
   "mimetype": "text/x-python",
   "name": "python",
   "nbconvert_exporter": "python",
   "pygments_lexer": "ipython3",
   "version": "3.8.10"
  }
 },
 "nbformat": 4,
 "nbformat_minor": 5
}
